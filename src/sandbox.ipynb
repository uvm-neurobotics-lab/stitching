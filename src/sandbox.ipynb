{
 "cells": [
  {
   "cell_type": "markdown",
   "source": [
    "# Imports"
   ],
   "metadata": {
    "collapsed": false
   }
  },
  {
   "cell_type": "code",
   "execution_count": 2,
   "outputs": [],
   "source": [
    "%load_ext autoreload\n",
    "%autoreload 2"
   ],
   "metadata": {
    "collapsed": false,
    "ExecuteTime": {
     "end_time": "2025-06-19T18:25:46.572062Z",
     "start_time": "2025-06-19T18:25:46.530204Z"
    }
   }
  },
  {
   "cell_type": "code",
   "execution_count": 3,
   "outputs": [],
   "source": [
    "import os\n",
    "import re\n",
    "import sys\n",
    "from pathlib import Path\n",
    "\n",
    "import numpy as np\n",
    "import matplotlib.pyplot as plt\n",
    "import pandas as pd\n",
    "import seaborn as sns\n",
    "import torch\n",
    "\n",
    "from assembly import Assembly\n",
    "from utils import load_yaml, num_params"
   ],
   "metadata": {
    "collapsed": false,
    "ExecuteTime": {
     "end_time": "2025-06-19T18:25:48.422726Z",
     "start_time": "2025-06-19T18:25:46.572566Z"
    }
   }
  },
  {
   "cell_type": "code",
   "execution_count": 4,
   "outputs": [
    {
     "name": "stdout",
     "output_type": "stream",
     "text": [
      "Using 8 cores.\n"
     ]
    }
   ],
   "source": [
    "sns.set(font_scale=1.25, style=\"whitegrid\")\n",
    "\n",
    "# device = torch.device(\"cuda:0\" if torch.cuda.is_available() else \"cpu\")\n",
    "# print(f\"Using device = {device}\")\n",
    "\n",
    "NUM_CORES = os.cpu_count()\n",
    "if hasattr(os, \"sched_getaffinity\"):\n",
    "    # This function is only available on certain platforms. When running with Slurm, it can tell us the true\n",
    "    # number of cores we have access to.\n",
    "    NUM_CORES = len(os.sched_getaffinity(0))\n",
    "print (f\"Using {NUM_CORES} cores.\")"
   ],
   "metadata": {
    "collapsed": false,
    "ExecuteTime": {
     "end_time": "2025-06-19T18:25:48.441862Z",
     "start_time": "2025-06-19T18:25:48.423887Z"
    }
   }
  },
  {
   "cell_type": "markdown",
   "source": [
    "# Counting Compute\n",
    "\n",
    "Figuring out how to count params and FLOPs, or whatever might be a good proxy for amount of compute."
   ],
   "metadata": {
    "collapsed": false
   }
  },
  {
   "cell_type": "code",
   "execution_count": 20,
   "outputs": [],
   "source": [
    "from fvcore.nn import FlopCountAnalysis\n",
    "from torchtnt.utils.flops import FlopTensorDispatchMode\n",
    "\n",
    "def print_sizes(cfile):\n",
    "    cfg = load_yaml(cfile)\n",
    "    assembly = cfg.get(\"assembly\", cfg.get(\"stages\", cfg.get(\"src_stages\")))\n",
    "    model = Assembly(assembly, cfg.get(\"head\"), input_shape=[3, 224, 224])\n",
    "    model.train()\n",
    "    print(f\"Number of parameters: {num_params(model):.3e}\")\n",
    "    for i, p in enumerate(model.parts):\n",
    "        print(f\"Num params in part {i+1} ({p.__class__.__name__}): {num_params(p):.3e}\")\n",
    "\n",
    "    dummy_img = torch.randn(1, 3, 224, 224)\n",
    "    flops = FlopCountAnalysis(model, dummy_img)\n",
    "    print(f\"\\nfvcore FLOPs: {flops.total()}\")\n",
    "    # print(f\"fvcore FLOPs by module: {flops.by_module()}\")\n",
    "    # print(f\"fvcore FLOPs by operator: {flops.by_operator()}\")\n",
    "    with FlopTensorDispatchMode(model) as ftdm:\n",
    "        _ = model(dummy_img)\n",
    "        print(f\"\\nTorchTNT FLOPs: {sum(ftdm.flop_counts[''].values())}\")\n",
    "        print(f\"\\nTorchTNT FLOPs breakdown:\")\n",
    "        for k, v in ftdm.flop_counts.items():\n",
    "            print(f\"    {k}: {v}\")"
   ],
   "metadata": {
    "collapsed": false,
    "ExecuteTime": {
     "end_time": "2025-06-19T18:55:55.504423Z",
     "start_time": "2025-06-19T18:55:55.438092Z"
    }
   }
  },
  {
   "cell_type": "code",
   "execution_count": 21,
   "outputs": [
    {
     "name": "stderr",
     "output_type": "stream",
     "text": [
      "/Users/ntraft/miniconda3/envs/stitch/lib/python3.11/site-packages/torch/fx/graph.py:1062: UserWarning: erase_node(x) on an already erased node\n",
      "  warnings.warn(f\"erase_node({to_erase}) on an already erased node\")\n",
      "/Users/ntraft/miniconda3/envs/stitch/lib/python3.11/site-packages/torch/fx/graph.py:1062: UserWarning: erase_node(x) on an already erased node\n",
      "  warnings.warn(f\"erase_node({to_erase}) on an already erased node\")\n",
      "/Users/ntraft/miniconda3/envs/stitch/lib/python3.11/site-packages/torch/fx/graph.py:1062: UserWarning: erase_node(x) on an already erased node\n",
      "  warnings.warn(f\"erase_node({to_erase}) on an already erased node\")\n",
      "/Users/ntraft/miniconda3/envs/stitch/lib/python3.11/site-packages/torch/fx/graph.py:1062: UserWarning: erase_node(x) on an already erased node\n",
      "  warnings.warn(f\"erase_node({to_erase}) on an already erased node\")\n",
      "/Users/ntraft/miniconda3/envs/stitch/lib/python3.11/site-packages/torch/fx/graph.py:1062: UserWarning: erase_node(x) on an already erased node\n",
      "  warnings.warn(f\"erase_node({to_erase}) on an already erased node\")\n",
      "/Users/ntraft/miniconda3/envs/stitch/lib/python3.11/site-packages/torch/fx/graph.py:1062: UserWarning: erase_node(x) on an already erased node\n",
      "  warnings.warn(f\"erase_node({to_erase}) on an already erased node\")\n",
      "/Users/ntraft/miniconda3/envs/stitch/lib/python3.11/site-packages/torch/fx/graph.py:1062: UserWarning: erase_node(x) on an already erased node\n",
      "  warnings.warn(f\"erase_node({to_erase}) on an already erased node\")\n",
      "/Users/ntraft/miniconda3/envs/stitch/lib/python3.11/site-packages/torch/fx/graph.py:1062: UserWarning: erase_node(x) on an already erased node\n",
      "  warnings.warn(f\"erase_node({to_erase}) on an already erased node\")\n",
      "/Users/ntraft/miniconda3/envs/stitch/lib/python3.11/site-packages/torch/fx/graph.py:1062: UserWarning: erase_node(x) on an already erased node\n",
      "  warnings.warn(f\"erase_node({to_erase}) on an already erased node\")\n",
      "/Users/ntraft/miniconda3/envs/stitch/lib/python3.11/site-packages/torch/fx/graph.py:1062: UserWarning: erase_node(x) on an already erased node\n",
      "  warnings.warn(f\"erase_node({to_erase}) on an already erased node\")\n",
      "/Users/ntraft/miniconda3/envs/stitch/lib/python3.11/site-packages/torch/fx/graph.py:1062: UserWarning: erase_node(x) on an already erased node\n",
      "  warnings.warn(f\"erase_node({to_erase}) on an already erased node\")\n",
      "/Users/ntraft/miniconda3/envs/stitch/lib/python3.11/site-packages/torch/fx/graph.py:1062: UserWarning: erase_node(x) on an already erased node\n",
      "  warnings.warn(f\"erase_node({to_erase}) on an already erased node\")\n",
      "/Users/ntraft/miniconda3/envs/stitch/lib/python3.11/site-packages/torch/fx/graph.py:1062: UserWarning: erase_node(x) on an already erased node\n",
      "  warnings.warn(f\"erase_node({to_erase}) on an already erased node\")\n",
      "/Users/ntraft/miniconda3/envs/stitch/lib/python3.11/site-packages/torch/fx/graph.py:1062: UserWarning: erase_node(x) on an already erased node\n",
      "  warnings.warn(f\"erase_node({to_erase}) on an already erased node\")\n",
      "WARNING:fvcore.nn.jit_analysis:Unsupported operator aten::hardswish_ encountered 21 time(s)\n",
      "WARNING:fvcore.nn.jit_analysis:Unsupported operator aten::add encountered 10 time(s)\n",
      "WARNING:fvcore.nn.jit_analysis:Unsupported operator aten::mean encountered 8 time(s)\n",
      "WARNING:fvcore.nn.jit_analysis:Unsupported operator aten::hardsigmoid encountered 8 time(s)\n",
      "WARNING:fvcore.nn.jit_analysis:Unsupported operator aten::mul encountered 8 time(s)\n"
     ]
    },
    {
     "name": "stdout",
     "output_type": "stream",
     "text": [
      "Number of parameters: 5.483e+06\n",
      "Num params in part 1 (Subnet): 4.368e+03\n",
      "Num params in part 2 (Subnet): 4.440e+03\n",
      "Num params in part 3 (Subnet): 1.033e+04\n",
      "Num params in part 4 (Subnet): 4.198e+04\n",
      "Num params in part 5 (Subnet): 3.208e+04\n",
      "Num params in part 6 (Subnet): 6.993e+05\n",
      "Num params in part 7 (Subnet): 4.292e+05\n",
      "Num params in part 8 (Subnet): 4.261e+06\n",
      "\n",
      "fvcore FLOPs: 238635840\n",
      "\n",
      "TorchTNT FLOPs: 216589760\n",
      "\n",
      "TorchTNT FLOPs breakdown:\n",
      "    : defaultdict(<class 'int'>, {'convolution.default': 215309760, 'addmm.default': 1280000})\n",
      "    parts.0: defaultdict(<class 'int'>, {'convolution.default': 29904896})\n",
      "    parts.0.net: defaultdict(<class 'int'>, {'convolution.default': 29904896})\n",
      "    parts.0.net.conv_stem: defaultdict(<class 'int'>, {'convolution.default': 5419008})\n",
      "    parts.0.net.blocks.0.0.conv_dw: defaultdict(<class 'int'>, {'convolution.default': 1806336})\n",
      "    parts.0.net.blocks.0.0.conv_pw: defaultdict(<class 'int'>, {'convolution.default': 3211264})\n",
      "    parts.0.net.blocks.1.0.conv_pw: defaultdict(<class 'int'>, {'convolution.default': 12845056})\n",
      "    parts.0.net.blocks.1.0.conv_dw: defaultdict(<class 'int'>, {'convolution.default': 1806336})\n",
      "    parts.0.net.blocks.1.0.conv_pwl: defaultdict(<class 'int'>, {'convolution.default': 4816896})\n",
      "    parts.1: defaultdict(<class 'int'>, {'convolution.default': 12870144})\n",
      "    parts.1.net: defaultdict(<class 'int'>, {'convolution.default': 12870144})\n",
      "    parts.1.net.blocks.1.1.conv_pw: defaultdict(<class 'int'>, {'convolution.default': 5419008})\n",
      "    parts.1.net.blocks.1.1.conv_dw: defaultdict(<class 'int'>, {'convolution.default': 2032128})\n",
      "    parts.1.net.blocks.1.1.conv_pwl: defaultdict(<class 'int'>, {'convolution.default': 5419008})\n",
      "    parts.2: defaultdict(<class 'int'>, {'convolution.default': 9091584})\n",
      "    parts.2.net: defaultdict(<class 'int'>, {'convolution.default': 9091584})\n",
      "    parts.2.net.blocks.2.0.conv_pw: defaultdict(<class 'int'>, {'convolution.default': 5419008})\n",
      "    parts.2.net.blocks.2.0.conv_dw: defaultdict(<class 'int'>, {'convolution.default': 1411200})\n",
      "    parts.2.net.blocks.2.0.se.conv_reduce: defaultdict(<class 'int'>, {'convolution.default': 1728})\n",
      "    parts.2.net.blocks.2.0.se.conv_expand: defaultdict(<class 'int'>, {'convolution.default': 1728})\n",
      "    parts.2.net.blocks.2.0.conv_pwl: defaultdict(<class 'int'>, {'convolution.default': 2257920})\n",
      "    parts.3: defaultdict(<class 'int'>, {'convolution.default': 19772160})\n",
      "    parts.3.net: defaultdict(<class 'int'>, {'convolution.default': 19772160})\n",
      "    parts.3.net.blocks.2.1.conv_pw: defaultdict(<class 'int'>, {'convolution.default': 3763200})\n",
      "    parts.3.net.blocks.2.1.conv_dw: defaultdict(<class 'int'>, {'convolution.default': 2352000})\n",
      "    parts.3.net.blocks.2.1.se.conv_reduce: defaultdict(<class 'int'>, {'convolution.default': 3840})\n",
      "    parts.3.net.blocks.2.1.se.conv_expand: defaultdict(<class 'int'>, {'convolution.default': 3840})\n",
      "    parts.3.net.blocks.2.1.conv_pwl: defaultdict(<class 'int'>, {'convolution.default': 3763200})\n",
      "    parts.3.net.blocks.2.2.conv_pw: defaultdict(<class 'int'>, {'convolution.default': 3763200})\n",
      "    parts.3.net.blocks.2.2.conv_dw: defaultdict(<class 'int'>, {'convolution.default': 2352000})\n",
      "    parts.3.net.blocks.2.2.se.conv_reduce: defaultdict(<class 'int'>, {'convolution.default': 3840})\n",
      "    parts.3.net.blocks.2.2.se.conv_expand: defaultdict(<class 'int'>, {'convolution.default': 3840})\n",
      "    parts.3.net.blocks.2.2.conv_pwl: defaultdict(<class 'int'>, {'convolution.default': 3763200})\n",
      "    parts.4: defaultdict(<class 'int'>, {'convolution.default': 11712960})\n",
      "    parts.4.net: defaultdict(<class 'int'>, {'convolution.default': 11712960})\n",
      "    parts.4.net.blocks.3.0.conv_pw: defaultdict(<class 'int'>, {'convolution.default': 7526400})\n",
      "    parts.4.net.blocks.3.0.conv_dw: defaultdict(<class 'int'>, {'convolution.default': 423360})\n",
      "    parts.4.net.blocks.3.0.conv_pwl: defaultdict(<class 'int'>, {'convolution.default': 3763200})\n",
      "    parts.5: defaultdict(<class 'int'>, {'convolution.default': 68754400})\n",
      "    parts.5.net: defaultdict(<class 'int'>, {'convolution.default': 68754400})\n",
      "    parts.5.net.blocks.3.1.conv_pw: defaultdict(<class 'int'>, {'convolution.default': 3136000})\n",
      "    parts.5.net.blocks.3.1.conv_dw: defaultdict(<class 'int'>, {'convolution.default': 352800})\n",
      "    parts.5.net.blocks.3.1.conv_pwl: defaultdict(<class 'int'>, {'convolution.default': 3136000})\n",
      "    parts.5.net.blocks.3.2.conv_pw: defaultdict(<class 'int'>, {'convolution.default': 2885120})\n",
      "    parts.5.net.blocks.3.2.conv_dw: defaultdict(<class 'int'>, {'convolution.default': 324576})\n",
      "    parts.5.net.blocks.3.2.conv_pwl: defaultdict(<class 'int'>, {'convolution.default': 2885120})\n",
      "    parts.5.net.blocks.3.3.conv_pw: defaultdict(<class 'int'>, {'convolution.default': 2885120})\n",
      "    parts.5.net.blocks.3.3.conv_dw: defaultdict(<class 'int'>, {'convolution.default': 324576})\n",
      "    parts.5.net.blocks.3.3.conv_pwl: defaultdict(<class 'int'>, {'convolution.default': 2885120})\n",
      "    parts.5.net.blocks.4.0.conv_pw: defaultdict(<class 'int'>, {'convolution.default': 7526400})\n",
      "    parts.5.net.blocks.4.0.conv_dw: defaultdict(<class 'int'>, {'convolution.default': 846720})\n",
      "    parts.5.net.blocks.4.0.se.conv_reduce: defaultdict(<class 'int'>, {'convolution.default': 57600})\n",
      "    parts.5.net.blocks.4.0.se.conv_expand: defaultdict(<class 'int'>, {'convolution.default': 57600})\n",
      "    parts.5.net.blocks.4.0.conv_pwl: defaultdict(<class 'int'>, {'convolution.default': 10536960})\n",
      "    parts.5.net.blocks.4.1.conv_pw: defaultdict(<class 'int'>, {'convolution.default': 14751744})\n",
      "    parts.5.net.blocks.4.1.conv_dw: defaultdict(<class 'int'>, {'convolution.default': 1185408})\n",
      "    parts.5.net.blocks.4.1.se.conv_reduce: defaultdict(<class 'int'>, {'convolution.default': 112896})\n",
      "    parts.5.net.blocks.4.1.se.conv_expand: defaultdict(<class 'int'>, {'convolution.default': 112896})\n",
      "    parts.5.net.blocks.4.1.conv_pwl: defaultdict(<class 'int'>, {'convolution.default': 14751744})\n",
      "    parts.6: defaultdict(<class 'int'>, {'convolution.default': 21069216})\n",
      "    parts.6.net: defaultdict(<class 'int'>, {'convolution.default': 21069216})\n",
      "    parts.6.net.blocks.5.0.conv_pw: defaultdict(<class 'int'>, {'convolution.default': 14751744})\n",
      "    parts.6.net.blocks.5.0.conv_dw: defaultdict(<class 'int'>, {'convolution.default': 823200})\n",
      "    parts.6.net.blocks.5.0.se.conv_reduce: defaultdict(<class 'int'>, {'convolution.default': 112896})\n",
      "    parts.6.net.blocks.5.0.se.conv_expand: defaultdict(<class 'int'>, {'convolution.default': 112896})\n",
      "    parts.6.net.blocks.5.0.conv_pwl: defaultdict(<class 'int'>, {'convolution.default': 5268480})\n",
      "    parts.7: defaultdict(<class 'int'>, {'convolution.default': 42134400, 'addmm.default': 1280000})\n",
      "    parts.7.net: defaultdict(<class 'int'>, {'convolution.default': 42134400, 'addmm.default': 1280000})\n",
      "    parts.7.net.blocks.5.1.conv_pw: defaultdict(<class 'int'>, {'convolution.default': 7526400})\n",
      "    parts.7.net.blocks.5.1.conv_dw: defaultdict(<class 'int'>, {'convolution.default': 1176000})\n",
      "    parts.7.net.blocks.5.1.se.conv_reduce: defaultdict(<class 'int'>, {'convolution.default': 230400})\n",
      "    parts.7.net.blocks.5.1.se.conv_expand: defaultdict(<class 'int'>, {'convolution.default': 230400})\n",
      "    parts.7.net.blocks.5.1.conv_pwl: defaultdict(<class 'int'>, {'convolution.default': 7526400})\n",
      "    parts.7.net.blocks.5.2.conv_pw: defaultdict(<class 'int'>, {'convolution.default': 7526400})\n",
      "    parts.7.net.blocks.5.2.conv_dw: defaultdict(<class 'int'>, {'convolution.default': 1176000})\n",
      "    parts.7.net.blocks.5.2.se.conv_reduce: defaultdict(<class 'int'>, {'convolution.default': 230400})\n",
      "    parts.7.net.blocks.5.2.se.conv_expand: defaultdict(<class 'int'>, {'convolution.default': 230400})\n",
      "    parts.7.net.blocks.5.2.conv_pwl: defaultdict(<class 'int'>, {'convolution.default': 7526400})\n",
      "    parts.7.net.blocks.6.0.conv: defaultdict(<class 'int'>, {'convolution.default': 7526400})\n",
      "    parts.7.net.conv_head: defaultdict(<class 'int'>, {'convolution.default': 1228800})\n"
     ]
    }
   ],
   "source": [
    "print_sizes(Path(\"../across-scales/mobilenet-v3.yml\"))"
   ],
   "metadata": {
    "collapsed": false,
    "ExecuteTime": {
     "end_time": "2025-06-19T18:55:59.002319Z",
     "start_time": "2025-06-19T18:55:55.710029Z"
    }
   }
  },
  {
   "cell_type": "code",
   "execution_count": 22,
   "outputs": [
    {
     "name": "stderr",
     "output_type": "stream",
     "text": [
      "/Users/ntraft/miniconda3/envs/stitch/lib/python3.11/site-packages/torch/fx/graph.py:1062: UserWarning: erase_node(x) on an already erased node\n",
      "  warnings.warn(f\"erase_node({to_erase}) on an already erased node\")\n",
      "WARNING:fvcore.nn.jit_analysis:Unsupported operator aten::add_ encountered 53 time(s)\n",
      "WARNING:fvcore.nn.jit_analysis:Unsupported operator aten::max_pool2d encountered 1 time(s)\n",
      "WARNING:fvcore.nn.jit_analysis:Unsupported operator aten::add encountered 16 time(s)\n"
     ]
    },
    {
     "name": "stdout",
     "output_type": "stream",
     "text": [
      "Number of parameters: 2.556e+07\n",
      "Num params in part 1 (Subnet): 8.454e+04\n",
      "Num params in part 2 (Subnet): 1.408e+05\n",
      "Num params in part 3 (Subnet): 3.794e+05\n",
      "Num params in part 4 (Subnet): 8.402e+05\n",
      "Num params in part 5 (Subnet): 1.512e+06\n",
      "Num params in part 6 (Subnet): 5.586e+06\n",
      "Num params in part 7 (Subnet): 6.040e+06\n",
      "Num params in part 8 (Subnet): 1.097e+07\n",
      "\n",
      "fvcore FLOPs: 4144854528\n",
      "\n",
      "TorchTNT FLOPs: 4089184256\n",
      "\n",
      "TorchTNT FLOPs breakdown:\n",
      "    : defaultdict(<class 'int'>, {'convolution.default': 4087136256, 'addmm.default': 2048000})\n",
      "    parts.0: defaultdict(<class 'int'>, {'convolution.default': 349224960})\n",
      "    parts.0.net: defaultdict(<class 'int'>, {'convolution.default': 349224960})\n",
      "    parts.0.net.conv1: defaultdict(<class 'int'>, {'convolution.default': 118013952})\n",
      "    parts.0.net.layer1.0.conv1: defaultdict(<class 'int'>, {'convolution.default': 12845056})\n",
      "    parts.0.net.layer1.0.conv2: defaultdict(<class 'int'>, {'convolution.default': 115605504})\n",
      "    parts.0.net.layer1.0.conv3: defaultdict(<class 'int'>, {'convolution.default': 51380224})\n",
      "    parts.0.net.layer1.0.downsample.0: defaultdict(<class 'int'>, {'convolution.default': 51380224})\n",
      "    parts.1: defaultdict(<class 'int'>, {'convolution.default': 436731904})\n",
      "    parts.1.net: defaultdict(<class 'int'>, {'convolution.default': 436731904})\n",
      "    parts.1.net.layer1.1.conv1: defaultdict(<class 'int'>, {'convolution.default': 51380224})\n",
      "    parts.1.net.layer1.1.conv2: defaultdict(<class 'int'>, {'convolution.default': 115605504})\n",
      "    parts.1.net.layer1.1.conv3: defaultdict(<class 'int'>, {'convolution.default': 51380224})\n",
      "    parts.1.net.layer1.2.conv1: defaultdict(<class 'int'>, {'convolution.default': 51380224})\n",
      "    parts.1.net.layer1.2.conv2: defaultdict(<class 'int'>, {'convolution.default': 115605504})\n",
      "    parts.1.net.layer1.2.conv3: defaultdict(<class 'int'>, {'convolution.default': 51380224})\n",
      "    parts.2: defaultdict(<class 'int'>, {'convolution.default': 372506624})\n",
      "    parts.2.net: defaultdict(<class 'int'>, {'convolution.default': 372506624})\n",
      "    parts.2.net.layer2.0.conv1: defaultdict(<class 'int'>, {'convolution.default': 102760448})\n",
      "    parts.2.net.layer2.0.conv2: defaultdict(<class 'int'>, {'convolution.default': 115605504})\n",
      "    parts.2.net.layer2.0.conv3: defaultdict(<class 'int'>, {'convolution.default': 51380224})\n",
      "    parts.2.net.layer2.0.downsample.0: defaultdict(<class 'int'>, {'convolution.default': 102760448})\n",
      "    parts.3: defaultdict(<class 'int'>, {'convolution.default': 655097856})\n",
      "    parts.3.net: defaultdict(<class 'int'>, {'convolution.default': 655097856})\n",
      "    parts.3.net.layer2.1.conv1: defaultdict(<class 'int'>, {'convolution.default': 51380224})\n",
      "    parts.3.net.layer2.1.conv2: defaultdict(<class 'int'>, {'convolution.default': 115605504})\n",
      "    parts.3.net.layer2.1.conv3: defaultdict(<class 'int'>, {'convolution.default': 51380224})\n",
      "    parts.3.net.layer2.2.conv1: defaultdict(<class 'int'>, {'convolution.default': 51380224})\n",
      "    parts.3.net.layer2.2.conv2: defaultdict(<class 'int'>, {'convolution.default': 115605504})\n",
      "    parts.3.net.layer2.2.conv3: defaultdict(<class 'int'>, {'convolution.default': 51380224})\n",
      "    parts.3.net.layer2.3.conv1: defaultdict(<class 'int'>, {'convolution.default': 51380224})\n",
      "    parts.3.net.layer2.3.conv2: defaultdict(<class 'int'>, {'convolution.default': 115605504})\n",
      "    parts.3.net.layer2.3.conv3: defaultdict(<class 'int'>, {'convolution.default': 51380224})\n",
      "    parts.4: defaultdict(<class 'int'>, {'convolution.default': 372506624})\n",
      "    parts.4.net: defaultdict(<class 'int'>, {'convolution.default': 372506624})\n",
      "    parts.4.net.layer3.0.conv1: defaultdict(<class 'int'>, {'convolution.default': 102760448})\n",
      "    parts.4.net.layer3.0.conv2: defaultdict(<class 'int'>, {'convolution.default': 115605504})\n",
      "    parts.4.net.layer3.0.conv3: defaultdict(<class 'int'>, {'convolution.default': 51380224})\n",
      "    parts.4.net.layer3.0.downsample.0: defaultdict(<class 'int'>, {'convolution.default': 102760448})\n",
      "    parts.5: defaultdict(<class 'int'>, {'convolution.default': 1091829760})\n",
      "    parts.5.net: defaultdict(<class 'int'>, {'convolution.default': 1091829760})\n",
      "    parts.5.net.layer3.1.conv1: defaultdict(<class 'int'>, {'convolution.default': 51380224})\n",
      "    parts.5.net.layer3.1.conv2: defaultdict(<class 'int'>, {'convolution.default': 115605504})\n",
      "    parts.5.net.layer3.1.conv3: defaultdict(<class 'int'>, {'convolution.default': 51380224})\n",
      "    parts.5.net.layer3.2.conv1: defaultdict(<class 'int'>, {'convolution.default': 51380224})\n",
      "    parts.5.net.layer3.2.conv2: defaultdict(<class 'int'>, {'convolution.default': 115605504})\n",
      "    parts.5.net.layer3.2.conv3: defaultdict(<class 'int'>, {'convolution.default': 51380224})\n",
      "    parts.5.net.layer3.3.conv1: defaultdict(<class 'int'>, {'convolution.default': 51380224})\n",
      "    parts.5.net.layer3.3.conv2: defaultdict(<class 'int'>, {'convolution.default': 115605504})\n",
      "    parts.5.net.layer3.3.conv3: defaultdict(<class 'int'>, {'convolution.default': 51380224})\n",
      "    parts.5.net.layer3.4.conv1: defaultdict(<class 'int'>, {'convolution.default': 51380224})\n",
      "    parts.5.net.layer3.4.conv2: defaultdict(<class 'int'>, {'convolution.default': 115605504})\n",
      "    parts.5.net.layer3.4.conv3: defaultdict(<class 'int'>, {'convolution.default': 51380224})\n",
      "    parts.5.net.layer3.5.conv1: defaultdict(<class 'int'>, {'convolution.default': 51380224})\n",
      "    parts.5.net.layer3.5.conv2: defaultdict(<class 'int'>, {'convolution.default': 115605504})\n",
      "    parts.5.net.layer3.5.conv3: defaultdict(<class 'int'>, {'convolution.default': 51380224})\n",
      "    parts.6: defaultdict(<class 'int'>, {'convolution.default': 372506624})\n",
      "    parts.6.net: defaultdict(<class 'int'>, {'convolution.default': 372506624})\n",
      "    parts.6.net.layer4.0.conv1: defaultdict(<class 'int'>, {'convolution.default': 102760448})\n",
      "    parts.6.net.layer4.0.conv2: defaultdict(<class 'int'>, {'convolution.default': 115605504})\n",
      "    parts.6.net.layer4.0.conv3: defaultdict(<class 'int'>, {'convolution.default': 51380224})\n",
      "    parts.6.net.layer4.0.downsample.0: defaultdict(<class 'int'>, {'convolution.default': 102760448})\n",
      "    parts.7: defaultdict(<class 'int'>, {'convolution.default': 436731904, 'addmm.default': 2048000})\n",
      "    parts.7.net: defaultdict(<class 'int'>, {'convolution.default': 436731904, 'addmm.default': 2048000})\n",
      "    parts.7.net.layer4.1.conv1: defaultdict(<class 'int'>, {'convolution.default': 51380224})\n",
      "    parts.7.net.layer4.1.conv2: defaultdict(<class 'int'>, {'convolution.default': 115605504})\n",
      "    parts.7.net.layer4.1.conv3: defaultdict(<class 'int'>, {'convolution.default': 51380224})\n",
      "    parts.7.net.layer4.2.conv1: defaultdict(<class 'int'>, {'convolution.default': 51380224})\n",
      "    parts.7.net.layer4.2.conv2: defaultdict(<class 'int'>, {'convolution.default': 115605504})\n",
      "    parts.7.net.layer4.2.conv3: defaultdict(<class 'int'>, {'convolution.default': 51380224})\n",
      "    parts.7.net.fc: defaultdict(<class 'int'>, {'addmm.default': 2048000})\n"
     ]
    }
   ],
   "source": [
    "print_sizes(Path(\"../across-scales/resnet-50.yml\"))"
   ],
   "metadata": {
    "collapsed": false,
    "ExecuteTime": {
     "end_time": "2025-06-19T18:56:19.014048Z",
     "start_time": "2025-06-19T18:56:15.229443Z"
    }
   }
  },
  {
   "cell_type": "code",
   "execution_count": 23,
   "outputs": [
    {
     "name": "stderr",
     "output_type": "stream",
     "text": [
      "/Users/ntraft/miniconda3/envs/stitch/lib/python3.11/site-packages/torchvision/models/_utils.py:208: UserWarning: The parameter 'pretrained' is deprecated since 0.13 and may be removed in the future, please use 'weights' instead.\n",
      "  warnings.warn(\n",
      "/Users/ntraft/miniconda3/envs/stitch/lib/python3.11/site-packages/torchvision/models/_utils.py:223: UserWarning: Arguments other than a weight enum or `None` for 'weights' are deprecated since 0.13 and may be removed in the future. The current behavior is equivalent to passing `weights=Swin_T_Weights.IMAGENET1K_V1`. You can also use `weights=Swin_T_Weights.DEFAULT` to get the most up-to-date weights.\n",
      "  warnings.warn(msg)\n",
      "/Users/ntraft/miniconda3/envs/stitch/lib/python3.11/site-packages/torch/fx/graph.py:1062: UserWarning: erase_node(x) on an already erased node\n",
      "  warnings.warn(f\"erase_node({to_erase}) on an already erased node\")\n"
     ]
    },
    {
     "name": "stdout",
     "output_type": "stream",
     "text": [
      "Number of parameters: 2.829e+07\n",
      "Num params in part 1 (Subnet): 4.896e+03\n",
      "Num params in part 2 (Subnet): 2.247e+05\n",
      "Num params in part 3 (Subnet): 7.450e+04\n",
      "Num params in part 4 (Subnet): 8.918e+05\n",
      "Num params in part 5 (Subnet): 2.964e+05\n",
      "Num params in part 6 (Subnet): 1.066e+07\n",
      "Num params in part 7 (Subnet): 1.183e+06\n",
      "Num params in part 8 (Subnet): 1.495e+07\n"
     ]
    },
    {
     "name": "stderr",
     "output_type": "stream",
     "text": [
      "WARNING:fvcore.nn.jit_analysis:Unsupported operator aten::rsub encountered 24 time(s)\n",
      "WARNING:fvcore.nn.jit_analysis:Unsupported operator aten::pad encountered 15 time(s)\n",
      "WARNING:fvcore.nn.jit_analysis:Unsupported operator aten::mul encountered 58 time(s)\n",
      "WARNING:fvcore.nn.jit_analysis:Unsupported operator aten::pow encountered 12 time(s)\n",
      "WARNING:fvcore.nn.jit_analysis:Unsupported operator aten::add encountered 41 time(s)\n",
      "WARNING:fvcore.nn.jit_analysis:Unsupported operator aten::softmax encountered 12 time(s)\n",
      "WARNING:fvcore.nn.jit_analysis:Unsupported operator aten::gelu encountered 12 time(s)\n",
      "WARNING:fvcore.nn.jit_analysis:Unsupported operator aten::fill_ encountered 45 time(s)\n",
      "WARNING:fvcore.nn.jit_analysis:Unsupported operator aten::sub encountered 5 time(s)\n",
      "WARNING:fvcore.nn.jit_analysis:Unsupported operator aten::ne encountered 5 time(s)\n",
      "WARNING:fvcore.nn.jit_analysis:Unsupported operator aten::bernoulli_ encountered 22 time(s)\n",
      "WARNING:fvcore.nn.jit_analysis:Unsupported operator aten::div_ encountered 22 time(s)\n",
      "WARNING:fvcore.nn.jit_analysis:The following submodules of the model were never called during the trace of the graph. They may be unused, or they were accessed by direct calls to .forward() or via other python methods. In the latter case they will have zeros for statistics, though their statistics will still contribute to their parent calling module.\n",
      "parts.1.net.features.1.0.stochastic_depth\n"
     ]
    },
    {
     "name": "stdout",
     "output_type": "stream",
     "text": [
      "\n",
      "fvcore FLOPs: 4509232128\n",
      "\n",
      "TorchTNT FLOPs: 4490566656\n",
      "\n",
      "TorchTNT FLOPs breakdown:\n",
      "    : defaultdict(<class 'int'>, {'convolution.default': 14450688, 'addmm.default': 4162566144, 'bmm.default': 140141568, 'mm.default': 173408256})\n",
      "    parts.0: defaultdict(<class 'int'>, {'convolution.default': 14450688})\n",
      "    parts.0.net: defaultdict(<class 'int'>, {'convolution.default': 14450688})\n",
      "    parts.0.net.features.0.0: defaultdict(<class 'int'>, {'convolution.default': 14450688})\n",
      "    parts.1: defaultdict(<class 'int'>, {'addmm.default': 693633024, 'bmm.default': 59006976})\n",
      "    parts.1.net: defaultdict(<class 'int'>, {'addmm.default': 693633024, 'bmm.default': 59006976})\n",
      "    parts.1.net.features.1.0.mlp: defaultdict(<class 'int'>, {'addmm.default': 231211008})\n",
      "    parts.1.net.features.1.0.mlp.0: defaultdict(<class 'int'>, {'addmm.default': 115605504})\n",
      "    parts.1.net.features.1.0.mlp.3: defaultdict(<class 'int'>, {'addmm.default': 115605504})\n",
      "    parts.1.net.features.1.1.mlp: defaultdict(<class 'int'>, {'addmm.default': 231211008})\n",
      "    parts.1.net.features.1.1.mlp.0: defaultdict(<class 'int'>, {'addmm.default': 115605504})\n",
      "    parts.1.net.features.1.1.mlp.3: defaultdict(<class 'int'>, {'addmm.default': 115605504})\n",
      "    parts.2: defaultdict(<class 'int'>, {'mm.default': 57802752})\n",
      "    parts.2.net: defaultdict(<class 'int'>, {'mm.default': 57802752})\n",
      "    parts.2.net.features.2.reduction: defaultdict(<class 'int'>, {'mm.default': 57802752})\n",
      "    parts.3: defaultdict(<class 'int'>, {'addmm.default': 693633024, 'bmm.default': 29503488})\n",
      "    parts.3.net: defaultdict(<class 'int'>, {'addmm.default': 693633024, 'bmm.default': 29503488})\n",
      "    parts.3.net.features.3.0.mlp: defaultdict(<class 'int'>, {'addmm.default': 231211008})\n",
      "    parts.3.net.features.3.0.mlp.0: defaultdict(<class 'int'>, {'addmm.default': 115605504})\n",
      "    parts.3.net.features.3.0.mlp.3: defaultdict(<class 'int'>, {'addmm.default': 115605504})\n",
      "    parts.3.net.features.3.1.mlp: defaultdict(<class 'int'>, {'addmm.default': 231211008})\n",
      "    parts.3.net.features.3.1.mlp.0: defaultdict(<class 'int'>, {'addmm.default': 115605504})\n",
      "    parts.3.net.features.3.1.mlp.3: defaultdict(<class 'int'>, {'addmm.default': 115605504})\n",
      "    parts.4: defaultdict(<class 'int'>, {'mm.default': 57802752})\n",
      "    parts.4.net: defaultdict(<class 'int'>, {'mm.default': 57802752})\n",
      "    parts.4.net.features.4.reduction: defaultdict(<class 'int'>, {'mm.default': 57802752})\n",
      "    parts.5: defaultdict(<class 'int'>, {'addmm.default': 2080899072, 'bmm.default': 44255232})\n",
      "    parts.5.net: defaultdict(<class 'int'>, {'addmm.default': 2080899072, 'bmm.default': 44255232})\n",
      "    parts.5.net.features.5.0.mlp: defaultdict(<class 'int'>, {'addmm.default': 231211008})\n",
      "    parts.5.net.features.5.0.mlp.0: defaultdict(<class 'int'>, {'addmm.default': 115605504})\n",
      "    parts.5.net.features.5.0.mlp.3: defaultdict(<class 'int'>, {'addmm.default': 115605504})\n",
      "    parts.5.net.features.5.1.mlp: defaultdict(<class 'int'>, {'addmm.default': 231211008})\n",
      "    parts.5.net.features.5.1.mlp.0: defaultdict(<class 'int'>, {'addmm.default': 115605504})\n",
      "    parts.5.net.features.5.1.mlp.3: defaultdict(<class 'int'>, {'addmm.default': 115605504})\n",
      "    parts.5.net.features.5.2.mlp: defaultdict(<class 'int'>, {'addmm.default': 231211008})\n",
      "    parts.5.net.features.5.2.mlp.0: defaultdict(<class 'int'>, {'addmm.default': 115605504})\n",
      "    parts.5.net.features.5.2.mlp.3: defaultdict(<class 'int'>, {'addmm.default': 115605504})\n",
      "    parts.5.net.features.5.3.mlp: defaultdict(<class 'int'>, {'addmm.default': 231211008})\n",
      "    parts.5.net.features.5.3.mlp.0: defaultdict(<class 'int'>, {'addmm.default': 115605504})\n",
      "    parts.5.net.features.5.3.mlp.3: defaultdict(<class 'int'>, {'addmm.default': 115605504})\n",
      "    parts.5.net.features.5.4.mlp: defaultdict(<class 'int'>, {'addmm.default': 231211008})\n",
      "    parts.5.net.features.5.4.mlp.0: defaultdict(<class 'int'>, {'addmm.default': 115605504})\n",
      "    parts.5.net.features.5.4.mlp.3: defaultdict(<class 'int'>, {'addmm.default': 115605504})\n",
      "    parts.5.net.features.5.5.mlp: defaultdict(<class 'int'>, {'addmm.default': 231211008})\n",
      "    parts.5.net.features.5.5.mlp.0: defaultdict(<class 'int'>, {'addmm.default': 115605504})\n",
      "    parts.5.net.features.5.5.mlp.3: defaultdict(<class 'int'>, {'addmm.default': 115605504})\n",
      "    parts.6: defaultdict(<class 'int'>, {'mm.default': 57802752})\n",
      "    parts.6.net: defaultdict(<class 'int'>, {'mm.default': 57802752})\n",
      "    parts.6.net.features.6.reduction: defaultdict(<class 'int'>, {'mm.default': 57802752})\n",
      "    parts.7: defaultdict(<class 'int'>, {'addmm.default': 694401024, 'bmm.default': 7375872})\n",
      "    parts.7.net: defaultdict(<class 'int'>, {'addmm.default': 694401024, 'bmm.default': 7375872})\n",
      "    parts.7.net.features.7.0.mlp: defaultdict(<class 'int'>, {'addmm.default': 231211008})\n",
      "    parts.7.net.features.7.0.mlp.0: defaultdict(<class 'int'>, {'addmm.default': 115605504})\n",
      "    parts.7.net.features.7.0.mlp.3: defaultdict(<class 'int'>, {'addmm.default': 115605504})\n",
      "    parts.7.net.features.7.1.mlp: defaultdict(<class 'int'>, {'addmm.default': 231211008})\n",
      "    parts.7.net.features.7.1.mlp.0: defaultdict(<class 'int'>, {'addmm.default': 115605504})\n",
      "    parts.7.net.features.7.1.mlp.3: defaultdict(<class 'int'>, {'addmm.default': 115605504})\n",
      "    parts.7.net.head: defaultdict(<class 'int'>, {'addmm.default': 768000})\n"
     ]
    }
   ],
   "source": [
    "print_sizes(Path(\"../across-scales/swin-t.yml\"))"
   ],
   "metadata": {
    "collapsed": false,
    "ExecuteTime": {
     "end_time": "2025-06-19T18:56:24.121482Z",
     "start_time": "2025-06-19T18:56:19.014330Z"
    }
   }
  }
 ],
 "metadata": {
  "kernelspec": {
   "display_name": "Python 3",
   "language": "python",
   "name": "python3"
  },
  "language_info": {
   "codemirror_mode": {
    "name": "ipython",
    "version": 2
   },
   "file_extension": ".py",
   "mimetype": "text/x-python",
   "name": "python",
   "nbconvert_exporter": "python",
   "pygments_lexer": "ipython2",
   "version": "2.7.6"
  }
 },
 "nbformat": 4,
 "nbformat_minor": 0
}
