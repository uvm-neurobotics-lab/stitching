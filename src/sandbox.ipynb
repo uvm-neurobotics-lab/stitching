{
 "cells": [
  {
   "cell_type": "markdown",
   "source": [
    "# Imports"
   ],
   "metadata": {
    "collapsed": false
   }
  },
  {
   "cell_type": "code",
   "execution_count": 2,
   "outputs": [],
   "source": [
    "%load_ext autoreload\n",
    "%autoreload 2"
   ],
   "metadata": {
    "collapsed": false,
    "ExecuteTime": {
     "end_time": "2025-06-19T18:25:46.572062Z",
     "start_time": "2025-06-19T18:25:46.530204Z"
    }
   }
  },
  {
   "cell_type": "code",
   "execution_count": 42,
   "outputs": [],
   "source": [
    "import os\n",
    "import warnings\n",
    "from copy import deepcopy\n",
    "from pathlib import Path\n",
    "\n",
    "import numpy as np\n",
    "import matplotlib.pyplot as plt\n",
    "import pandas as pd\n",
    "import seaborn as sns\n",
    "import torch\n",
    "\n",
    "from assembly import Assembly\n",
    "from utils import load_yaml, num_params\n",
    "from utils.models import load_model"
   ],
   "metadata": {
    "collapsed": false,
    "ExecuteTime": {
     "end_time": "2025-06-20T21:22:45.416947Z",
     "start_time": "2025-06-20T21:22:45.342351Z"
    }
   }
  },
  {
   "cell_type": "code",
   "execution_count": 32,
   "outputs": [
    {
     "name": "stdout",
     "output_type": "stream",
     "text": [
      "Using 8 cores.\n"
     ]
    }
   ],
   "source": [
    "sns.set(font_scale=1.25, style=\"whitegrid\")\n",
    "\n",
    "# Ignore known warnings that come when constructing subnets.\n",
    "warnings.filterwarnings(\"ignore\", message=\".*The parameter 'pretrained' is deprecated.*\")\n",
    "warnings.filterwarnings(\"ignore\", message=\".*Arguments other than a weight enum.*\")\n",
    "warnings.filterwarnings(\"ignore\", message=\".*already erased node.*\")\n",
    "\n",
    "# device = torch.device(\"cuda:0\" if torch.cuda.is_available() else \"cpu\")\n",
    "# print(f\"Using device = {device}\")\n",
    "\n",
    "NUM_CORES = os.cpu_count()\n",
    "if hasattr(os, \"sched_getaffinity\"):\n",
    "    # This function is only available on certain platforms. When running with Slurm, it can tell us the true\n",
    "    # number of cores we have access to.\n",
    "    NUM_CORES = len(os.sched_getaffinity(0))\n",
    "print (f\"Using {NUM_CORES} cores.\")"
   ],
   "metadata": {
    "collapsed": false,
    "ExecuteTime": {
     "end_time": "2025-06-20T20:51:40.667664Z",
     "start_time": "2025-06-20T20:51:40.636305Z"
    }
   }
  },
  {
   "cell_type": "markdown",
   "source": [
    "# Counting Compute\n",
    "\n",
    "Figuring out how to count params and FLOPs, or whatever might be a good proxy for amount of compute."
   ],
   "metadata": {
    "collapsed": false
   }
  },
  {
   "cell_type": "code",
   "execution_count": 36,
   "outputs": [],
   "source": [
    "from fvcore.nn import FlopCountAnalysis\n",
    "from torchtnt.utils.flops import FlopTensorDispatchMode\n",
    "\n",
    "def print_assembly_sizes(cfile):\n",
    "    cfg = load_yaml(cfile)\n",
    "    assembly = cfg.get(\"assembly\", cfg.get(\"stages\", cfg.get(\"src_stages\")))\n",
    "    model = Assembly(assembly, cfg.get(\"head\"), input_shape=[3, 224, 224])\n",
    "    print_sizes(model)\n",
    "\n",
    "\n",
    "def print_sizes(model):\n",
    "    model.train()\n",
    "    print(f\"Number of parameters: {num_params(model):.3e}\")\n",
    "    if hasattr(model, \"parts\"):\n",
    "        for i, p in enumerate(model.parts):\n",
    "            print(f\"Num params in part {i+1} ({p.__class__.__name__}): {num_params(p):.3e}\")\n",
    "\n",
    "    dummy_img = torch.randn(1, 3, 224, 224)\n",
    "    flops = FlopCountAnalysis(model, dummy_img)\n",
    "    print(f\"\\nfvcore FLOPs: {flops.total():.3e}\")\n",
    "    # print(f\"fvcore FLOPs by module: {flops.by_module()}\")\n",
    "    # print(f\"fvcore FLOPs by operator: {flops.by_operator()}\")\n",
    "    with FlopTensorDispatchMode(model) as ftdm:\n",
    "        _ = model(dummy_img)\n",
    "        print(f\"\\nTorchTNT FLOPs: {sum(ftdm.flop_counts[''].values()):.3e}\")\n",
    "        # print(f\"\\nTorchTNT FLOPs breakdown:\")\n",
    "        # for k, v in ftdm.flop_counts.items():\n",
    "        #     print(f\"    {k}: {v:.3e}\")"
   ],
   "metadata": {
    "collapsed": false,
    "ExecuteTime": {
     "end_time": "2025-06-20T20:52:45.506641Z",
     "start_time": "2025-06-20T20:52:45.476774Z"
    }
   }
  },
  {
   "cell_type": "code",
   "execution_count": 38,
   "outputs": [
    {
     "name": "stderr",
     "output_type": "stream",
     "text": [
      "WARNING:fvcore.nn.jit_analysis:Unsupported operator aten::hardswish_ encountered 21 time(s)\n",
      "WARNING:fvcore.nn.jit_analysis:Unsupported operator aten::add encountered 10 time(s)\n",
      "WARNING:fvcore.nn.jit_analysis:Unsupported operator aten::mean encountered 8 time(s)\n",
      "WARNING:fvcore.nn.jit_analysis:Unsupported operator aten::hardsigmoid encountered 8 time(s)\n",
      "WARNING:fvcore.nn.jit_analysis:Unsupported operator aten::mul encountered 8 time(s)\n"
     ]
    },
    {
     "name": "stdout",
     "output_type": "stream",
     "text": [
      "Number of parameters: 5.483e+06\n",
      "Num params in part 1 (Subnet): 4.368e+03\n",
      "Num params in part 2 (Subnet): 4.440e+03\n",
      "Num params in part 3 (Subnet): 1.033e+04\n",
      "Num params in part 4 (Subnet): 4.198e+04\n",
      "Num params in part 5 (Subnet): 3.208e+04\n",
      "Num params in part 6 (Subnet): 6.993e+05\n",
      "Num params in part 7 (Subnet): 4.292e+05\n",
      "Num params in part 8 (Subnet): 4.261e+06\n",
      "\n",
      "fvcore FLOPs: 2.386e+08\n",
      "\n",
      "TorchTNT FLOPs: 2.166e+08\n"
     ]
    }
   ],
   "source": [
    "print_assembly_sizes(Path(\"../across-scales/mobilenet-v3.yml\"))"
   ],
   "metadata": {
    "collapsed": false,
    "ExecuteTime": {
     "end_time": "2025-06-20T20:53:09.995811Z",
     "start_time": "2025-06-20T20:53:06.212596Z"
    }
   }
  },
  {
   "cell_type": "code",
   "execution_count": 39,
   "outputs": [
    {
     "name": "stderr",
     "output_type": "stream",
     "text": [
      "WARNING:fvcore.nn.jit_analysis:Unsupported operator aten::add_ encountered 53 time(s)\n",
      "WARNING:fvcore.nn.jit_analysis:Unsupported operator aten::max_pool2d encountered 1 time(s)\n",
      "WARNING:fvcore.nn.jit_analysis:Unsupported operator aten::add encountered 16 time(s)\n"
     ]
    },
    {
     "name": "stdout",
     "output_type": "stream",
     "text": [
      "Number of parameters: 2.556e+07\n",
      "Num params in part 1 (Subnet): 8.454e+04\n",
      "Num params in part 2 (Subnet): 1.408e+05\n",
      "Num params in part 3 (Subnet): 3.794e+05\n",
      "Num params in part 4 (Subnet): 8.402e+05\n",
      "Num params in part 5 (Subnet): 1.512e+06\n",
      "Num params in part 6 (Subnet): 5.586e+06\n",
      "Num params in part 7 (Subnet): 6.040e+06\n",
      "Num params in part 8 (Subnet): 1.097e+07\n",
      "\n",
      "fvcore FLOPs: 4.145e+09\n",
      "\n",
      "TorchTNT FLOPs: 4.089e+09\n"
     ]
    }
   ],
   "source": [
    "print_assembly_sizes(Path(\"../across-scales/resnet-50.yml\"))"
   ],
   "metadata": {
    "collapsed": false,
    "ExecuteTime": {
     "end_time": "2025-06-20T20:53:13.837805Z",
     "start_time": "2025-06-20T20:53:09.996269Z"
    }
   }
  },
  {
   "cell_type": "code",
   "execution_count": 40,
   "outputs": [
    {
     "name": "stdout",
     "output_type": "stream",
     "text": [
      "Number of parameters: 2.829e+07\n",
      "Num params in part 1 (Subnet): 4.896e+03\n",
      "Num params in part 2 (Subnet): 2.247e+05\n",
      "Num params in part 3 (Subnet): 7.450e+04\n",
      "Num params in part 4 (Subnet): 8.918e+05\n",
      "Num params in part 5 (Subnet): 2.964e+05\n",
      "Num params in part 6 (Subnet): 1.066e+07\n",
      "Num params in part 7 (Subnet): 1.183e+06\n",
      "Num params in part 8 (Subnet): 1.495e+07\n"
     ]
    },
    {
     "name": "stderr",
     "output_type": "stream",
     "text": [
      "WARNING:fvcore.nn.jit_analysis:Unsupported operator aten::rsub encountered 24 time(s)\n",
      "WARNING:fvcore.nn.jit_analysis:Unsupported operator aten::pad encountered 15 time(s)\n",
      "WARNING:fvcore.nn.jit_analysis:Unsupported operator aten::mul encountered 58 time(s)\n",
      "WARNING:fvcore.nn.jit_analysis:Unsupported operator aten::pow encountered 12 time(s)\n",
      "WARNING:fvcore.nn.jit_analysis:Unsupported operator aten::add encountered 41 time(s)\n",
      "WARNING:fvcore.nn.jit_analysis:Unsupported operator aten::softmax encountered 12 time(s)\n",
      "WARNING:fvcore.nn.jit_analysis:Unsupported operator aten::gelu encountered 12 time(s)\n",
      "WARNING:fvcore.nn.jit_analysis:Unsupported operator aten::fill_ encountered 45 time(s)\n",
      "WARNING:fvcore.nn.jit_analysis:Unsupported operator aten::sub encountered 5 time(s)\n",
      "WARNING:fvcore.nn.jit_analysis:Unsupported operator aten::ne encountered 5 time(s)\n",
      "WARNING:fvcore.nn.jit_analysis:Unsupported operator aten::bernoulli_ encountered 22 time(s)\n",
      "WARNING:fvcore.nn.jit_analysis:Unsupported operator aten::div_ encountered 22 time(s)\n",
      "WARNING:fvcore.nn.jit_analysis:The following submodules of the model were never called during the trace of the graph. They may be unused, or they were accessed by direct calls to .forward() or via other python methods. In the latter case they will have zeros for statistics, though their statistics will still contribute to their parent calling module.\n",
      "parts.1.net.features.1.0.stochastic_depth\n"
     ]
    },
    {
     "name": "stdout",
     "output_type": "stream",
     "text": [
      "\n",
      "fvcore FLOPs: 4.509e+09\n",
      "\n",
      "TorchTNT FLOPs: 4.491e+09\n"
     ]
    }
   ],
   "source": [
    "print_assembly_sizes(Path(\"../across-scales/swin-t.yml\"))"
   ],
   "metadata": {
    "collapsed": false,
    "ExecuteTime": {
     "end_time": "2025-06-20T20:53:18.975133Z",
     "start_time": "2025-06-20T20:53:13.837600Z"
    }
   }
  },
  {
   "cell_type": "code",
   "execution_count": 37,
   "outputs": [
    {
     "name": "stderr",
     "output_type": "stream",
     "text": [
      "WARNING:fvcore.nn.jit_analysis:Unsupported operator aten::add_ encountered 28 time(s)\n",
      "WARNING:fvcore.nn.jit_analysis:Unsupported operator aten::max_pool2d encountered 1 time(s)\n"
     ]
    },
    {
     "name": "stdout",
     "output_type": "stream",
     "text": [
      "Number of parameters: 1.169e+07\n",
      "\n",
      "fvcore FLOPs: 1.827e+09\n",
      "\n",
      "TorchTNT FLOPs: 1.814e+09\n"
     ]
    }
   ],
   "source": [
    "print_sizes(load_model(\"resnet18\", \"pytorch\", pretrained=False))"
   ],
   "metadata": {
    "collapsed": false,
    "ExecuteTime": {
     "end_time": "2025-06-20T20:52:49.584038Z",
     "start_time": "2025-06-20T20:52:49.301896Z"
    }
   }
  },
  {
   "cell_type": "markdown",
   "source": [
    "Below: demonstrating how the number of params and FLOPs in a ResNet BottleneckBlock are actually much smaller than a single conv3x3 layer."
   ],
   "metadata": {
    "collapsed": false
   }
  },
  {
   "cell_type": "code",
   "execution_count": 58,
   "outputs": [
    {
     "name": "stderr",
     "output_type": "stream",
     "text": [
      "WARNING:fvcore.nn.jit_analysis:Unsupported operator aten::add_ encountered 53 time(s)\n",
      "WARNING:fvcore.nn.jit_analysis:Unsupported operator aten::max_pool2d encountered 1 time(s)\n",
      "WARNING:fvcore.nn.jit_analysis:Unsupported operator aten::add encountered 16 time(s)\n"
     ]
    },
    {
     "name": "stdout",
     "output_type": "stream",
     "text": [
      "Number of parameters: 2.556e+07\n",
      "Num params in part 1 (Subnet): 1.445e+06\n",
      "Num params in part 2 (Subnet): 1.512e+06\n",
      "Num params in part 3 (Subnet): 2.260e+07\n",
      "\n",
      "fvcore FLOPs: 4.145e+09\n",
      "\n",
      "TorchTNT FLOPs: 4.089e+09\n"
     ]
    }
   ],
   "source": [
    "# Assembly equivalent to a ResNet-50.\n",
    "assembly_config = [\n",
    "    {\"Subnet\": {\n",
    "        \"backend\": \"timm\",\n",
    "        \"model_name\": \"resnet50.a1_in1k\",\n",
    "        \"block_input\": \"x\",\n",
    "        \"block_output\": \"layer2.3\",\n",
    "        \"in_format\": \"img\",  # layer1.0 input is [64, 56, 56].\n",
    "        \"out_format\": [\"img\", [512, 28, 28]],\n",
    "    }},\n",
    "    {\"Subnet\": {  # Downsample block\n",
    "        \"backend\": \"timm\",\n",
    "        \"model_name\": \"resnet50.a1_in1k\",\n",
    "        \"block_input\": \"layer3.0\",\n",
    "        \"block_output\": \"layer3.0\",\n",
    "        \"in_format\": [\"img\", [512, 28, 28]],\n",
    "        \"out_format\": [\"img\", [1024, 14, 14]],\n",
    "    }},\n",
    "    {\"Subnet\": {\n",
    "        \"backend\": \"timm\",\n",
    "        \"model_name\": \"resnet50.a1_in1k\",\n",
    "        \"block_input\": \"layer3.1\",\n",
    "        \"block_output\": \"fc\",\n",
    "        \"in_format\": [\"img\", [1024, 14, 14]],\n",
    "        \"out_format\": \"vector\",\n",
    "    }},\n",
    "]\n",
    "\n",
    "def newcfg():\n",
    "    return deepcopy(assembly_config)\n",
    "\n",
    "\n",
    "model = Assembly(newcfg(), input_shape=[3, 224, 224])\n",
    "print_sizes(model)"
   ],
   "metadata": {
    "collapsed": false,
    "ExecuteTime": {
     "end_time": "2025-06-21T00:20:22.045554Z",
     "start_time": "2025-06-21T00:20:19.881987Z"
    }
   }
  },
  {
   "cell_type": "code",
   "execution_count": 59,
   "outputs": [],
   "source": [
    "from launch_scaling_experiments import linear, stitch, conv3x3, bottleneck, stitch_no_downsample\n",
    "\n",
    "gap = {\n",
    "    \"blocks_to_drop\": [1, 1],\n",
    "    \"num_downsamples\": 1,\n",
    "}"
   ],
   "metadata": {
    "collapsed": false,
    "ExecuteTime": {
     "end_time": "2025-06-21T00:20:22.078769Z",
     "start_time": "2025-06-21T00:20:22.047701Z"
    }
   }
  },
  {
   "cell_type": "code",
   "execution_count": 60,
   "outputs": [
    {
     "name": "stderr",
     "output_type": "stream",
     "text": [
      "WARNING:fvcore.nn.jit_analysis:Unsupported operator aten::add_ encountered 51 time(s)\n",
      "WARNING:fvcore.nn.jit_analysis:Unsupported operator aten::max_pool2d encountered 1 time(s)\n",
      "WARNING:fvcore.nn.jit_analysis:Unsupported operator aten::add encountered 15 time(s)\n",
      "WARNING:fvcore.nn.jit_analysis:Unsupported operator aten::leaky_relu_ encountered 1 time(s)\n"
     ]
    },
    {
     "name": "stdout",
     "output_type": "stream",
     "text": [
      "Number of parameters: 2.877e+07\n",
      "Num params in part 1 (Subnet): 1.445e+06\n",
      "Num params in part 2 (SimpleAdapter): 4.723e+06\n",
      "Num params in part 3 (Subnet): 2.260e+07\n",
      "\n",
      "fvcore FLOPs: 4.696e+09\n",
      "\n",
      "TorchTNT FLOPs: 4.642e+09\n"
     ]
    }
   ],
   "source": [
    "conv3x3_assembly = stitch(newcfg(), newcfg(), gap, conv3x3)\n",
    "model = Assembly(conv3x3_assembly, input_shape=[3, 224, 224])\n",
    "print_sizes(model)"
   ],
   "metadata": {
    "collapsed": false,
    "ExecuteTime": {
     "end_time": "2025-06-21T00:20:23.623703Z",
     "start_time": "2025-06-21T00:20:22.076999Z"
    }
   }
  },
  {
   "cell_type": "code",
   "execution_count": 61,
   "outputs": [
    {
     "name": "stderr",
     "output_type": "stream",
     "text": [
      "WARNING:fvcore.nn.jit_analysis:Unsupported operator aten::add_ encountered 54 time(s)\n",
      "WARNING:fvcore.nn.jit_analysis:Unsupported operator aten::max_pool2d encountered 1 time(s)\n",
      "WARNING:fvcore.nn.jit_analysis:Unsupported operator aten::add encountered 15 time(s)\n"
     ]
    },
    {
     "name": "stdout",
     "output_type": "stream",
     "text": [
      "Number of parameters: 2.556e+07\n",
      "Num params in part 1 (Subnet): 1.445e+06\n",
      "Num params in part 2 (ResNetBottleneck): 1.512e+06\n",
      "Num params in part 3 (Subnet): 2.260e+07\n",
      "\n",
      "fvcore FLOPs: 4.067e+09\n",
      "\n",
      "TorchTNT FLOPs: 4.012e+09\n"
     ]
    }
   ],
   "source": [
    "bottleneck_assembly = stitch(newcfg(), newcfg(), gap, bottleneck)\n",
    "model = Assembly(bottleneck_assembly, input_shape=[3, 224, 224])\n",
    "print_sizes(model)"
   ],
   "metadata": {
    "collapsed": false,
    "ExecuteTime": {
     "end_time": "2025-06-21T00:20:24.880362Z",
     "start_time": "2025-06-21T00:20:23.624103Z"
    }
   }
  },
  {
   "cell_type": "code",
   "execution_count": 62,
   "outputs": [
    {
     "name": "stdout",
     "output_type": "stream",
     "text": [
      "Number of parameters: 2.556e+07\n",
      "Num params in part 1 (Subnet): 1.445e+06\n",
      "Num params in part 2 (ResNetBottleneck): 1.512e+06\n",
      "Num params in part 3 (Subnet): 2.260e+07\n"
     ]
    },
    {
     "name": "stderr",
     "output_type": "stream",
     "text": [
      "WARNING:fvcore.nn.jit_analysis:Unsupported operator aten::add_ encountered 54 time(s)\n",
      "WARNING:fvcore.nn.jit_analysis:Unsupported operator aten::max_pool2d encountered 1 time(s)\n",
      "WARNING:fvcore.nn.jit_analysis:Unsupported operator aten::add encountered 15 time(s)\n"
     ]
    },
    {
     "name": "stdout",
     "output_type": "stream",
     "text": [
      "\n",
      "fvcore FLOPs: 1.070e+10\n",
      "\n",
      "TorchTNT FLOPs: 1.060e+10\n"
     ]
    }
   ],
   "source": [
    "bottleneck_no_downsample_assembly = stitch_no_downsample(newcfg(), newcfg(), gap, bottleneck)\n",
    "model = Assembly(bottleneck_no_downsample_assembly, input_shape=[3, 224, 224])\n",
    "print_sizes(model)"
   ],
   "metadata": {
    "collapsed": false,
    "ExecuteTime": {
     "end_time": "2025-06-21T00:20:26.218965Z",
     "start_time": "2025-06-21T00:20:24.882918Z"
    }
   }
  },
  {
   "cell_type": "code",
   "execution_count": 63,
   "outputs": [
    {
     "name": "stderr",
     "output_type": "stream",
     "text": [
      "WARNING:fvcore.nn.jit_analysis:Unsupported operator aten::add_ encountered 51 time(s)\n",
      "WARNING:fvcore.nn.jit_analysis:Unsupported operator aten::max_pool2d encountered 1 time(s)\n",
      "WARNING:fvcore.nn.jit_analysis:Unsupported operator aten::add encountered 15 time(s)\n"
     ]
    },
    {
     "name": "stdout",
     "output_type": "stream",
     "text": [
      "Number of parameters: 2.457e+07\n",
      "Num params in part 1 (Subnet): 1.445e+06\n",
      "Num params in part 2 (SimpleAdapter): 5.284e+05\n",
      "Num params in part 3 (Subnet): 2.260e+07\n",
      "\n",
      "fvcore FLOPs: 3.906e+09\n",
      "\n",
      "TorchTNT FLOPs: 3.851e+09\n"
     ]
    }
   ],
   "source": [
    "linear_assembly = stitch(newcfg(), newcfg(), gap, linear)\n",
    "model = Assembly(linear_assembly, input_shape=[3, 224, 224])\n",
    "print_sizes(model)"
   ],
   "metadata": {
    "collapsed": false,
    "ExecuteTime": {
     "end_time": "2025-06-21T00:20:27.479746Z",
     "start_time": "2025-06-21T00:20:26.219539Z"
    }
   }
  },
  {
   "cell_type": "code",
   "execution_count": 64,
   "outputs": [
    {
     "name": "stdout",
     "output_type": "stream",
     "text": [
      "Number of parameters: 2.457e+07\n",
      "Num params in part 1 (Subnet): 1.445e+06\n",
      "Num params in part 2 (SimpleAdapter): 5.284e+05\n",
      "Num params in part 3 (Subnet): 2.260e+07\n"
     ]
    },
    {
     "name": "stderr",
     "output_type": "stream",
     "text": [
      "WARNING:fvcore.nn.jit_analysis:Unsupported operator aten::add_ encountered 51 time(s)\n",
      "WARNING:fvcore.nn.jit_analysis:Unsupported operator aten::max_pool2d encountered 1 time(s)\n",
      "WARNING:fvcore.nn.jit_analysis:Unsupported operator aten::add encountered 15 time(s)\n"
     ]
    },
    {
     "name": "stdout",
     "output_type": "stream",
     "text": [
      "\n",
      "fvcore FLOPs: 1.111e+10\n",
      "\n",
      "TorchTNT FLOPs: 1.102e+10\n"
     ]
    }
   ],
   "source": [
    "linear_no_downsample_assembly = stitch_no_downsample(newcfg(), newcfg(), gap, linear)\n",
    "model = Assembly(linear_no_downsample_assembly, input_shape=[3, 224, 224])\n",
    "print_sizes(model)"
   ],
   "metadata": {
    "collapsed": false,
    "ExecuteTime": {
     "end_time": "2025-06-21T00:20:28.860318Z",
     "start_time": "2025-06-21T00:20:27.480718Z"
    }
   }
  }
 ],
 "metadata": {
  "kernelspec": {
   "display_name": "Python 3",
   "language": "python",
   "name": "python3"
  },
  "language_info": {
   "codemirror_mode": {
    "name": "ipython",
    "version": 2
   },
   "file_extension": ".py",
   "mimetype": "text/x-python",
   "name": "python",
   "nbconvert_exporter": "python",
   "pygments_lexer": "ipython2",
   "version": "2.7.6"
  }
 },
 "nbformat": 4,
 "nbformat_minor": 0
}
